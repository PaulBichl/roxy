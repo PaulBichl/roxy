{
 "cells": [
  {
   "cell_type": "code",
   "execution_count": 1,
   "id": "337d184e",
   "metadata": {},
   "outputs": [],
   "source": [
    "import os\n",
    "\n",
    "from ultralytics import YOLO"
   ]
  },
  {
   "cell_type": "code",
   "execution_count": 14,
   "id": "fdfa9479",
   "metadata": {},
   "outputs": [],
   "source": [
    "path = os.getcwd()\n",
    "\n",
    "model_n = YOLO(os.path.join(path, \"cat_with_prey_model_n.pt\"))  # doenst work that well\n",
    "model_l = YOLO(os.path.join(path, \"cat_with_prey_model_l.pt\"))  # bad\n",
    "model_x = YOLO(\"yolo11n.pt\")  # wouldnt run on raspi on only pretrained model"
   ]
  },
  {
   "cell_type": "code",
   "execution_count": 17,
   "id": "d4a7e291",
   "metadata": {},
   "outputs": [
    {
     "name": "stdout",
     "output_type": "stream",
     "text": [
      "\n",
      "image 1/1 c:\\Users\\Paul Bichl\\checkouts\\roxy\\scripts\\ML\\test_images_v2\\motion-10.jpg: 640x640 (no detections), 63.2ms\n",
      "Speed: 1.7ms preprocess, 63.2ms inference, 0.3ms postprocess per image at shape (1, 3, 640, 640)\n",
      "\n",
      "image 1/1 c:\\Users\\Paul Bichl\\checkouts\\roxy\\scripts\\ML\\test_images_v2\\motion-11.jpg: 640x640 1 cat, 40.1ms\n",
      "Speed: 1.6ms preprocess, 40.1ms inference, 0.8ms postprocess per image at shape (1, 3, 640, 640)\n",
      "\n",
      "image 1/1 c:\\Users\\Paul Bichl\\checkouts\\roxy\\scripts\\ML\\test_images_v2\\motion-13.jpg: 640x640 1 cat, 42.1ms\n",
      "Speed: 1.6ms preprocess, 42.1ms inference, 0.7ms postprocess per image at shape (1, 3, 640, 640)\n",
      "\n",
      "image 1/1 c:\\Users\\Paul Bichl\\checkouts\\roxy\\scripts\\ML\\test_images_v2\\motion-14.jpg: 640x640 (no detections), 44.3ms\n",
      "Speed: 1.9ms preprocess, 44.3ms inference, 0.9ms postprocess per image at shape (1, 3, 640, 640)\n",
      "\n",
      "image 1/1 c:\\Users\\Paul Bichl\\checkouts\\roxy\\scripts\\ML\\test_images_v2\\motion-15.jpg: 640x640 (no detections), 73.7ms\n",
      "Speed: 3.2ms preprocess, 73.7ms inference, 0.4ms postprocess per image at shape (1, 3, 640, 640)\n",
      "\n",
      "image 1/1 c:\\Users\\Paul Bichl\\checkouts\\roxy\\scripts\\ML\\test_images_v2\\motion-16.jpg: 640x640 1 cat, 152.6ms\n",
      "Speed: 6.1ms preprocess, 152.6ms inference, 3.4ms postprocess per image at shape (1, 3, 640, 640)\n",
      "\n",
      "image 1/1 c:\\Users\\Paul Bichl\\checkouts\\roxy\\scripts\\ML\\test_images_v2\\motion-17.jpg: 640x640 (no detections), 366.1ms\n",
      "Speed: 7.9ms preprocess, 366.1ms inference, 0.6ms postprocess per image at shape (1, 3, 640, 640)\n",
      "\n",
      "image 1/1 c:\\Users\\Paul Bichl\\checkouts\\roxy\\scripts\\ML\\test_images_v2\\motion-18.jpg: 640x640 2 cats, 238.0ms\n",
      "Speed: 9.7ms preprocess, 238.0ms inference, 1.4ms postprocess per image at shape (1, 3, 640, 640)\n",
      "\n",
      "image 1/1 c:\\Users\\Paul Bichl\\checkouts\\roxy\\scripts\\ML\\test_images_v2\\motion-19.jpg: 640x640 2 cats, 164.1ms\n",
      "Speed: 3.6ms preprocess, 164.1ms inference, 1.6ms postprocess per image at shape (1, 3, 640, 640)\n",
      "\n",
      "image 1/1 c:\\Users\\Paul Bichl\\checkouts\\roxy\\scripts\\ML\\test_images_v2\\motion-20.jpg: 640x640 1 cat, 238.4ms\n",
      "Speed: 7.1ms preprocess, 238.4ms inference, 0.8ms postprocess per image at shape (1, 3, 640, 640)\n",
      "\n",
      "image 1/1 c:\\Users\\Paul Bichl\\checkouts\\roxy\\scripts\\ML\\test_images_v2\\motion-21.jpg: 640x640 1 cat, 162.0ms\n",
      "Speed: 7.3ms preprocess, 162.0ms inference, 1.7ms postprocess per image at shape (1, 3, 640, 640)\n",
      "\n",
      "image 1/1 c:\\Users\\Paul Bichl\\checkouts\\roxy\\scripts\\ML\\test_images_v2\\motion-24.jpg: 640x640 1 cat, 123.8ms\n",
      "Speed: 3.1ms preprocess, 123.8ms inference, 1.2ms postprocess per image at shape (1, 3, 640, 640)\n",
      "\n",
      "image 1/1 c:\\Users\\Paul Bichl\\checkouts\\roxy\\scripts\\ML\\test_images_v2\\motion-28.jpg: 640x640 (no detections), 185.9ms\n",
      "Speed: 2.9ms preprocess, 185.9ms inference, 0.7ms postprocess per image at shape (1, 3, 640, 640)\n",
      "\n",
      "image 1/1 c:\\Users\\Paul Bichl\\checkouts\\roxy\\scripts\\ML\\test_images_v2\\motion-32.jpg: 640x640 1 cat, 297.1ms\n",
      "Speed: 6.9ms preprocess, 297.1ms inference, 6.3ms postprocess per image at shape (1, 3, 640, 640)\n"
     ]
    }
   ],
   "source": [
    "# try some images taken with raspberry pi camera\n",
    "validation_images_dir = \"./test_images_v2\"\n",
    "\n",
    "# Get all image file paths (jpg, png, etc.)\n",
    "image_paths = os.path.join(validation_images_dir, \"*.*\")\n",
    "\n",
    "for image in os.listdir(validation_images_dir):\n",
    "    if image.endswith((\".jpg\", \".jpeg\", \".png\", \".bmp\", \".gif\")):\n",
    "        img_path = os.path.join(validation_images_dir, image)\n",
    "        results = model_n(img_path)  # Predict on an image\n",
    "        results[0].show()  # Display results"
   ]
  }
 ],
 "metadata": {
  "kernelspec": {
   "display_name": "roxy",
   "language": "python",
   "name": "python3"
  },
  "language_info": {
   "codemirror_mode": {
    "name": "ipython",
    "version": 3
   },
   "file_extension": ".py",
   "mimetype": "text/x-python",
   "name": "python",
   "nbconvert_exporter": "python",
   "pygments_lexer": "ipython3",
   "version": "3.12.11"
  }
 },
 "nbformat": 4,
 "nbformat_minor": 5
}
