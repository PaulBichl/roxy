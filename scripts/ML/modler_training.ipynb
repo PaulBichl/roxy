{
 "cells": [
  {
   "cell_type": "code",
   "execution_count": null,
   "id": "6424aef9",
   "metadata": {},
   "outputs": [],
   "source": [
    "import os"
   ]
  },
  {
   "cell_type": "code",
   "execution_count": null,
   "id": "62ca01a5",
   "metadata": {},
   "outputs": [],
   "source": [
    "# download dataset from roboflow, the api key is for a free account\n",
    "# not storing in git, obviously download when needed\n",
    "from roboflow import Roboflow\n",
    "\n",
    "rf = Roboflow(api_key=\"OpD5BaplvEmFDpYoBino\")\n",
    "project = rf.workspace(\"pino-carenza-mgn6v\").project(\"cat-with-prey-detection\")\n",
    "version = project.version(20)\n",
    "dataset = version.download(\"yolov11\")"
   ]
  },
  {
   "cell_type": "code",
   "execution_count": null,
   "id": "5012f3dc",
   "metadata": {},
   "outputs": [],
   "source": [
    "from ultralytics import YOLO\n",
    "\n",
    "# Load a pretrained YOLO11n model\n",
    "model = YOLO(\"yolo11n.pt\")  # pretrained model, nano size\n",
    "\n",
    "train_results = model.train(\n",
    "    data=\"./cat-with-prey-detection-20/data.yaml\",  # Path to dataset configuration file\n",
    "    epochs=20,  # s\n",
    "    imgsz=640,  # Image size for training\n",
    "    # device=\"cpu\",  # Device to run on (e.g., 'cpu', 0, [0,1,2,3])\n",
    ")"
   ]
  },
  {
   "cell_type": "code",
   "execution_count": null,
   "id": "08e9473f",
   "metadata": {},
   "outputs": [],
   "source": [
    "# Evaluate the model's performance on the validation set\n",
    "metrics = model.val()\n",
    "print(metrics.to_df)"
   ]
  },
  {
   "cell_type": "code",
   "execution_count": null,
   "id": "a5477d40",
   "metadata": {},
   "outputs": [],
   "source": [
    "# try some images taken with raspberry pi camera\n",
    "validation_images_dir = \"./test_images\"\n",
    "\n",
    "# Get all image file paths (jpg, png, etc.)\n",
    "image_paths = os.path.join(validation_images_dir, \"*.*\")\n",
    "\n",
    "for image in os.listdir(validation_images_dir):\n",
    "    if image.endswith((\".jpg\", \".jpeg\", \".png\", \".bmp\", \".gif\")):\n",
    "        img_path = os.path.join(validation_images_dir, image)\n",
    "        results = model(img_path)  # Predict on an image\n",
    "        results[0].show()  # Display results"
   ]
  },
  {
   "cell_type": "code",
   "execution_count": null,
   "id": "3a77c240",
   "metadata": {},
   "outputs": [],
   "source": [
    "# save model\n",
    "model_path = \"./cat_with_prey_model\"\n",
    "model.save(model_path)"
   ]
  }
 ],
 "metadata": {
  "kernelspec": {
   "display_name": "roxy",
   "language": "python",
   "name": "python3"
  },
  "language_info": {
   "codemirror_mode": {
    "name": "ipython",
    "version": 3
   },
   "file_extension": ".py",
   "mimetype": "text/x-python",
   "name": "python",
   "nbconvert_exporter": "python",
   "pygments_lexer": "ipython3",
   "version": "3.12.11"
  }
 },
 "nbformat": 4,
 "nbformat_minor": 5
}
