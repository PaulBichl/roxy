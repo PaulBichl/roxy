{
 "cells": [
  {
   "cell_type": "code",
   "execution_count": 1,
   "id": "74f79412",
   "metadata": {},
   "outputs": [],
   "source": [
    "import os\n",
    "\n",
    "from ultralytics import YOLO"
   ]
  },
  {
   "cell_type": "code",
   "execution_count": null,
   "id": "7ef3fdde",
   "metadata": {},
   "outputs": [
    {
     "name": "stdout",
     "output_type": "stream",
     "text": [
      "New https://pypi.org/project/ultralytics/8.3.223 available  Update with 'pip install -U ultralytics'\n",
      "Ultralytics 8.3.211  Python-3.12.11 torch-2.8.0+cpu CPU (AMD Ryzen AI 7 350 w/ Radeon 860M)\n",
      "\u001b[34m\u001b[1mengine\\trainer: \u001b[0magnostic_nms=False, amp=True, augment=False, auto_augment=randaugment, batch=16, bgr=0.0, box=7.5, cache=False, cfg=None, classes=None, close_mosaic=10, cls=0.5, compile=False, conf=None, copy_paste=0.0, copy_paste_mode=flip, cos_lr=False, cutmix=0.0, data=./dataset/, degrees=0.0, deterministic=True, device=cpu, dfl=1.5, dnn=False, dropout=0.0, dynamic=False, embed=None, epochs=1, erasing=0.4, exist_ok=False, fliplr=0.5, flipud=0.0, format=torchscript, fraction=1.0, freeze=None, half=False, hsv_h=0.015, hsv_s=0.7, hsv_v=0.4, imgsz=640, int8=False, iou=0.7, keras=False, kobj=1.0, line_width=None, lr0=0.01, lrf=0.01, mask_ratio=4, max_det=300, mixup=0.0, mode=train, model=yolo11n-cls.pt, momentum=0.937, mosaic=1.0, multi_scale=False, name=train, nbs=64, nms=False, opset=None, optimize=False, optimizer=auto, overlap_mask=True, patience=100, perspective=0.0, plots=True, pose=12.0, pretrained=True, profile=False, project=None, rect=False, resume=False, retina_masks=False, save=True, save_conf=False, save_crop=False, save_dir=C:\\Users\\Paul Bichl\\checkouts\\roxy\\runs\\classify\\train, save_frames=False, save_json=False, save_period=-1, save_txt=False, scale=0.5, seed=0, shear=0.0, show=False, show_boxes=True, show_conf=True, show_labels=True, simplify=True, single_cls=False, source=None, split=val, stream_buffer=False, task=classify, time=None, tracker=botsort.yaml, translate=0.1, val=True, verbose=True, vid_stride=1, visualize=False, warmup_bias_lr=0.1, warmup_epochs=3.0, warmup_momentum=0.8, weight_decay=0.0005, workers=8, workspace=None\n",
      "\u001b[34m\u001b[1mtrain:\u001b[0m C:\\Users\\Paul Bichl\\checkouts\\roxy\\scripts\\ML\\dataset\\train... found 252 images in 3 classes  \n",
      "\u001b[34m\u001b[1mval:\u001b[0m C:\\Users\\Paul Bichl\\checkouts\\roxy\\scripts\\ML\\dataset\\val... found 63 images in 3 classes  \n",
      "\u001b[34m\u001b[1mtest:\u001b[0m None...\n",
      "Overriding model.yaml nc=80 with nc=3\n",
      "\n",
      "                   from  n    params  module                                       arguments                     \n",
      "  0                  -1  1       464  ultralytics.nn.modules.conv.Conv             [3, 16, 3, 2]                 \n",
      "  1                  -1  1      4672  ultralytics.nn.modules.conv.Conv             [16, 32, 3, 2]                \n",
      "  2                  -1  1      6640  ultralytics.nn.modules.block.C3k2            [32, 64, 1, False, 0.25]      \n",
      "  3                  -1  1     36992  ultralytics.nn.modules.conv.Conv             [64, 64, 3, 2]                \n",
      "  4                  -1  1     26080  ultralytics.nn.modules.block.C3k2            [64, 128, 1, False, 0.25]     \n",
      "  5                  -1  1    147712  ultralytics.nn.modules.conv.Conv             [128, 128, 3, 2]              \n",
      "  6                  -1  1     87040  ultralytics.nn.modules.block.C3k2            [128, 128, 1, True]           \n",
      "  7                  -1  1    295424  ultralytics.nn.modules.conv.Conv             [128, 256, 3, 2]              \n",
      "  8                  -1  1    346112  ultralytics.nn.modules.block.C3k2            [256, 256, 1, True]           \n",
      "  9                  -1  1    249728  ultralytics.nn.modules.block.C2PSA           [256, 256, 1]                 \n",
      " 10                  -1  1    334083  ultralytics.nn.modules.head.Classify         [256, 3]                      \n",
      "YOLO11n-cls summary: 86 layers, 1,534,947 parameters, 1,534,947 gradients, 3.3 GFLOPs\n",
      "Transferred 234/236 items from pretrained weights\n",
      "\u001b[34m\u001b[1mtrain: \u001b[0mFast image access  (ping: 0.00.0 ms, read: 148.0195.3 MB/s, size: 61.2 KB)\n",
      "\u001b[K\u001b[34m\u001b[1mtrain: \u001b[0mScanning C:\\Users\\Paul Bichl\\checkouts\\roxy\\scripts\\ML\\dataset\\train... 252 images, 0 corrupt: 100% ━━━━━━━━━━━━ 252/252 606.5it/s 0.4s0.1s\n",
      "\u001b[34m\u001b[1mtrain: \u001b[0mNew cache created: C:\\Users\\Paul Bichl\\checkouts\\roxy\\scripts\\ML\\dataset\\train.cache\n",
      "\u001b[34m\u001b[1mval: \u001b[0mFast image access  (ping: 0.00.0 ms, read: 4.61.8 MB/s, size: 49.0 KB)\n",
      "\u001b[K\u001b[34m\u001b[1mval: \u001b[0mScanning C:\\Users\\Paul Bichl\\checkouts\\roxy\\scripts\\ML\\dataset\\val... 63 images, 0 corrupt: 100% ━━━━━━━━━━━━ 63/63 684.2it/s 0.1s\n",
      "\u001b[34m\u001b[1mval: \u001b[0mNew cache created: C:\\Users\\Paul Bichl\\checkouts\\roxy\\scripts\\ML\\dataset\\val.cache\n",
      "\u001b[34m\u001b[1moptimizer:\u001b[0m 'optimizer=auto' found, ignoring 'lr0=0.01' and 'momentum=0.937' and determining best 'optimizer', 'lr0' and 'momentum' automatically... \n",
      "\u001b[34m\u001b[1moptimizer:\u001b[0m AdamW(lr=0.001429, momentum=0.9) with parameter groups 39 weight(decay=0.0), 40 weight(decay=0.0005), 40 bias(decay=0.0)\n",
      "Image sizes 640 train, 640 val\n",
      "Using 0 dataloader workers\n",
      "Logging results to \u001b[1mC:\\Users\\Paul Bichl\\checkouts\\roxy\\runs\\classify\\train\u001b[0m\n",
      "Starting training for 1 epochs...\n",
      "\n",
      "      Epoch    GPU_mem       loss  Instances       Size\n",
      "\u001b[K        1/1         0G     0.9706         12        640: 100% ━━━━━━━━━━━━ 16/16 0.7it/s 23.9s1.3s\n",
      "\u001b[K               classes   top1_acc   top5_acc: 100% ━━━━━━━━━━━━ 2/2 1.1it/s 1.9s3.2s\n",
      "                   all      0.841          1\n",
      "\n",
      "1 epochs completed in 0.008 hours.\n",
      "Optimizer stripped from C:\\Users\\Paul Bichl\\checkouts\\roxy\\runs\\classify\\train\\weights\\last.pt, 3.2MB\n",
      "Optimizer stripped from C:\\Users\\Paul Bichl\\checkouts\\roxy\\runs\\classify\\train\\weights\\best.pt, 3.2MB\n",
      "\n",
      "Validating C:\\Users\\Paul Bichl\\checkouts\\roxy\\runs\\classify\\train\\weights\\best.pt...\n",
      "Ultralytics 8.3.211  Python-3.12.11 torch-2.8.0+cpu CPU (AMD Ryzen AI 7 350 w/ Radeon 860M)\n",
      "YOLO11n-cls summary (fused): 47 layers, 1,529,867 parameters, 0 gradients, 3.2 GFLOPs\n",
      "\u001b[34m\u001b[1mtrain:\u001b[0m C:\\Users\\Paul Bichl\\checkouts\\roxy\\scripts\\ML\\dataset\\train... found 252 images in 3 classes  \n",
      "\u001b[34m\u001b[1mval:\u001b[0m C:\\Users\\Paul Bichl\\checkouts\\roxy\\scripts\\ML\\dataset\\val... found 63 images in 3 classes  \n",
      "\u001b[34m\u001b[1mtest:\u001b[0m None...\n",
      "\u001b[K               classes   top1_acc   top5_acc: 100% ━━━━━━━━━━━━ 2/2 1.2it/s 1.7s2.8s\n",
      "                   all      0.841          1\n",
      "Speed: 0.0ms preprocess, 18.8ms inference, 0.0ms loss, 0.0ms postprocess per image\n",
      "Results saved to \u001b[1mC:\\Users\\Paul Bichl\\checkouts\\roxy\\runs\\classify\\train\u001b[0m\n"
     ]
    }
   ],
   "source": [
    "# Load a pretrained YOLO11 model calssification model\n",
    "model = YOLO(\"yolo11n-cls.pt\")  # pretrained model switch to yolo11x-csl.pt for training session 2\n",
    "\n",
    "train_results = model.train(\n",
    "    data=\"./dataset/\",\n",
    "    epochs=1000,\n",
    "    imgsz=640,\n",
    ")"
   ]
  },
  {
   "cell_type": "code",
   "execution_count": null,
   "id": "e2db5e31",
   "metadata": {},
   "outputs": [
    {
     "name": "stdout",
     "output_type": "stream",
     "text": [
      "\n",
      "image 1/1 c:\\Users\\Paul Bichl\\checkouts\\roxy\\scripts\\ML\\test_images_v2\\motion-10.jpg: 640x640 cat 0.62, cat+prey 0.26, background 0.12, 30.5ms\n",
      "Speed: 3.3ms preprocess, 30.5ms inference, 0.0ms postprocess per image at shape (1, 3, 640, 640)\n",
      "\n",
      "image 1/1 c:\\Users\\Paul Bichl\\checkouts\\roxy\\scripts\\ML\\test_images_v2\\motion-11.jpg: 640x640 cat 0.69, background 0.23, cat+prey 0.07, 24.6ms\n",
      "Speed: 3.5ms preprocess, 24.6ms inference, 0.1ms postprocess per image at shape (1, 3, 640, 640)\n",
      "\n",
      "image 1/1 c:\\Users\\Paul Bichl\\checkouts\\roxy\\scripts\\ML\\test_images_v2\\motion-13.jpg: 640x640 cat 0.84, cat+prey 0.10, background 0.06, 24.5ms\n",
      "Speed: 3.7ms preprocess, 24.5ms inference, 0.0ms postprocess per image at shape (1, 3, 640, 640)\n",
      "\n",
      "image 1/1 c:\\Users\\Paul Bichl\\checkouts\\roxy\\scripts\\ML\\test_images_v2\\motion-14.jpg: 640x640 cat 0.56, cat+prey 0.28, background 0.17, 30.9ms\n",
      "Speed: 3.9ms preprocess, 30.9ms inference, 0.0ms postprocess per image at shape (1, 3, 640, 640)\n",
      "\n",
      "image 1/1 c:\\Users\\Paul Bichl\\checkouts\\roxy\\scripts\\ML\\test_images_v2\\motion-15.jpg: 640x640 background 0.55, cat 0.33, cat+prey 0.12, 61.1ms\n",
      "Speed: 4.4ms preprocess, 61.1ms inference, 0.0ms postprocess per image at shape (1, 3, 640, 640)\n",
      "\n",
      "image 1/1 c:\\Users\\Paul Bichl\\checkouts\\roxy\\scripts\\ML\\test_images_v2\\motion-16.jpg: 640x640 cat 0.58, background 0.24, cat+prey 0.18, 34.8ms\n",
      "Speed: 4.4ms preprocess, 34.8ms inference, 0.0ms postprocess per image at shape (1, 3, 640, 640)\n",
      "\n",
      "image 1/1 c:\\Users\\Paul Bichl\\checkouts\\roxy\\scripts\\ML\\test_images_v2\\motion-17.jpg: 640x640 cat 0.74, cat+prey 0.13, background 0.13, 370.0ms\n",
      "Speed: 16.2ms preprocess, 370.0ms inference, 0.1ms postprocess per image at shape (1, 3, 640, 640)\n",
      "\n",
      "image 1/1 c:\\Users\\Paul Bichl\\checkouts\\roxy\\scripts\\ML\\test_images_v2\\motion-18.jpg: 640x640 cat 0.70, background 0.18, cat+prey 0.11, 95.8ms\n",
      "Speed: 9.6ms preprocess, 95.8ms inference, 0.2ms postprocess per image at shape (1, 3, 640, 640)\n",
      "\n",
      "image 1/1 c:\\Users\\Paul Bichl\\checkouts\\roxy\\scripts\\ML\\test_images_v2\\motion-19.jpg: 640x640 cat 0.65, background 0.28, cat+prey 0.08, 62.3ms\n",
      "Speed: 8.8ms preprocess, 62.3ms inference, 0.2ms postprocess per image at shape (1, 3, 640, 640)\n",
      "\n",
      "image 1/1 c:\\Users\\Paul Bichl\\checkouts\\roxy\\scripts\\ML\\test_images_v2\\motion-20.jpg: 640x640 cat 0.56, cat+prey 0.24, background 0.19, 177.0ms\n",
      "Speed: 16.2ms preprocess, 177.0ms inference, 0.1ms postprocess per image at shape (1, 3, 640, 640)\n",
      "\n",
      "image 1/1 c:\\Users\\Paul Bichl\\checkouts\\roxy\\scripts\\ML\\test_images_v2\\motion-21.jpg: 640x640 cat 0.70, cat+prey 0.18, background 0.12, 266.7ms\n",
      "Speed: 23.5ms preprocess, 266.7ms inference, 0.0ms postprocess per image at shape (1, 3, 640, 640)\n",
      "\n",
      "image 1/1 c:\\Users\\Paul Bichl\\checkouts\\roxy\\scripts\\ML\\test_images_v2\\motion-24.jpg: 640x640 cat 0.70, background 0.23, cat+prey 0.07, 429.1ms\n",
      "Speed: 28.0ms preprocess, 429.1ms inference, 0.0ms postprocess per image at shape (1, 3, 640, 640)\n",
      "\n",
      "image 1/1 c:\\Users\\Paul Bichl\\checkouts\\roxy\\scripts\\ML\\test_images_v2\\motion-28.jpg: 640x640 cat 0.58, cat+prey 0.23, background 0.19, 85.8ms\n",
      "Speed: 7.3ms preprocess, 85.8ms inference, 0.0ms postprocess per image at shape (1, 3, 640, 640)\n",
      "\n",
      "image 1/1 c:\\Users\\Paul Bichl\\checkouts\\roxy\\scripts\\ML\\test_images_v2\\motion-32.jpg: 640x640 cat 0.55, background 0.24, cat+prey 0.21, 91.5ms\n",
      "Speed: 26.0ms preprocess, 91.5ms inference, 0.0ms postprocess per image at shape (1, 3, 640, 640)\n"
     ]
    }
   ],
   "source": [
    "# showcase\n",
    "validation_images_dir = \"./test_images_v2\"\n",
    "\n",
    "# Get all image file paths (jpg, png, etc.)\n",
    "image_paths = os.path.join(validation_images_dir, \"*.*\")\n",
    "\n",
    "for image in os.listdir(validation_images_dir):\n",
    "    if image.endswith((\".jpg\", \".jpeg\", \".png\", \".bmp\", \".gif\")):\n",
    "        img_path = os.path.join(validation_images_dir, image)\n",
    "        results = model(img_path)  # Predict on an image\n",
    "        results[0].show()  # Display results"
   ]
  }
 ],
 "metadata": {
  "kernelspec": {
   "display_name": "roxy",
   "language": "python",
   "name": "python3"
  },
  "language_info": {
   "codemirror_mode": {
    "name": "ipython",
    "version": 3
   },
   "file_extension": ".py",
   "mimetype": "text/x-python",
   "name": "python",
   "nbconvert_exporter": "python",
   "pygments_lexer": "ipython3",
   "version": "3.12.11"
  }
 },
 "nbformat": 4,
 "nbformat_minor": 5
}
